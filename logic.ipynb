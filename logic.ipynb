{
 "cells": [
  {
   "cell_type": "code",
   "execution_count": 6,
   "id": "de0e20c8",
   "metadata": {},
   "outputs": [
    {
     "name": "stdout",
     "output_type": "stream",
     "text": [
      "100\n",
      "200\n",
      "300\n",
      "400\n"
     ]
    }
   ],
   "source": [
    "y = [0,1,2,3]\n",
    "\n",
    "for x in y:\n",
    "    print((x+1)*100)"
   ]
  },
  {
   "cell_type": "code",
   "execution_count": 10,
   "id": "c502fb11",
   "metadata": {},
   "outputs": [
    {
     "data": {
      "text/plain": [
       "[0, 1, 2, 3]"
      ]
     },
     "execution_count": 10,
     "metadata": {},
     "output_type": "execute_result"
    }
   ],
   "source": [
    "list(range(4))"
   ]
  },
  {
   "cell_type": "code",
   "execution_count": 14,
   "id": "3b8dfcaa",
   "metadata": {},
   "outputs": [
    {
     "name": "stdout",
     "output_type": "stream",
     "text": [
      "4\n",
      "7\n",
      "10\n",
      "13\n"
     ]
    }
   ],
   "source": [
    "for x in range(4,15,3):\n",
    "    print(x)"
   ]
  },
  {
   "cell_type": "code",
   "execution_count": 24,
   "id": "b552ee9d",
   "metadata": {},
   "outputs": [
    {
     "name": "stdout",
     "output_type": "stream",
     "text": [
      "Dwight was here\n"
     ]
    }
   ],
   "source": [
    "condition = True\n",
    "while condition:\n",
    "    print(\"Dwight was here\")\n",
    "    condition = False"
   ]
  },
  {
   "cell_type": "code",
   "execution_count": 33,
   "id": "90b41803",
   "metadata": {},
   "outputs": [
    {
     "name": "stdout",
     "output_type": "stream",
     "text": [
      "1\n",
      "4\n",
      "7\n",
      "10\n",
      "13\n"
     ]
    }
   ],
   "source": [
    "x = 1\n",
    "while x < 14:\n",
    "    print(x)\n",
    "    x += 3"
   ]
  },
  {
   "cell_type": "markdown",
   "id": "ecc5ed74",
   "metadata": {},
   "source": [
    "Better to use For in loop"
   ]
  },
  {
   "cell_type": "code",
   "execution_count": 3,
   "id": "5e458d50",
   "metadata": {},
   "outputs": [
    {
     "name": "stdout",
     "output_type": "stream",
     "text": [
      "1\n",
      "4\n",
      "7\n",
      "10\n",
      "13\n"
     ]
    }
   ],
   "source": [
    "for x in range(1,14,3):\n",
    "    print(x)"
   ]
  },
  {
   "cell_type": "code",
   "execution_count": 21,
   "id": "454c7d53",
   "metadata": {},
   "outputs": [
    {
     "data": {
      "text/plain": [
       "[0, 1, 4, 9, 16, 25, 36, 49, 64, 81, 100, 121, 144, 169, 196, 225, 256, 289]"
      ]
     },
     "execution_count": 21,
     "metadata": {},
     "output_type": "execute_result"
    }
   ],
   "source": [
    "numbers = []\n",
    "for number in range(18):\n",
    "    numbers.append(number**2)\n",
    "\n",
    "numbers"
   ]
  },
  {
   "cell_type": "markdown",
   "id": "04376965",
   "metadata": {},
   "source": [
    "Comprehension for list\n",
    "[(output expression) for (iter) in (iterable)]"
   ]
  },
  {
   "cell_type": "code",
   "execution_count": 24,
   "id": "7b12d0bf",
   "metadata": {},
   "outputs": [
    {
     "data": {
      "text/plain": [
       "[0, 1, 4, 9, 16, 25, 36, 49, 64, 81, 100, 121, 144, 169, 196, 225, 256, 289]"
      ]
     },
     "execution_count": 24,
     "metadata": {},
     "output_type": "execute_result"
    }
   ],
   "source": [
    "[number**2 for number in range(18)]"
   ]
  },
  {
   "cell_type": "markdown",
   "id": "6ffd2267",
   "metadata": {},
   "source": [
    "Comprehension for other objects\n",
    "Tuple Comprehension () - Immutable objects\n",
    "((output expression) for (iter) in (iterable))\n",
    "\n",
    "Set Comprehension {} - Unique values & unordered\n",
    "{(output expression) for (iter) in (iterable)}\n",
    "\n",
    "Dictionary Comprehension {:} - Key : Value pairs\n",
    "{(output expression no.1): (output expression no.2) for (iter) in (iterable)}"
   ]
  },
  {
   "cell_type": "code",
   "execution_count": 25,
   "id": "aa1f575e",
   "metadata": {},
   "outputs": [
    {
     "data": {
      "text/plain": [
       "(0, 1, 0, 1, 0, 1, 0, 1, 0, 1)"
      ]
     },
     "execution_count": 25,
     "metadata": {},
     "output_type": "execute_result"
    }
   ],
   "source": [
    "# Tuple Comprehension example\n",
    "tuple(number % 2 for number in range(10))"
   ]
  },
  {
   "cell_type": "code",
   "execution_count": 26,
   "id": "6b42ccf7",
   "metadata": {},
   "outputs": [
    {
     "data": {
      "text/plain": [
       "{0, 1}"
      ]
     },
     "execution_count": 26,
     "metadata": {},
     "output_type": "execute_result"
    }
   ],
   "source": [
    "# Set Comprehension example\n",
    "{number % 2 for number in range(10)}"
   ]
  },
  {
   "cell_type": "code",
   "execution_count": 27,
   "id": "f9633b2f",
   "metadata": {},
   "outputs": [
    {
     "data": {
      "text/plain": [
       "{0: 0, 1: 1, 2: 0, 3: 1, 4: 0, 5: 1, 6: 0, 7: 1, 8: 0, 9: 1}"
      ]
     },
     "execution_count": 27,
     "metadata": {},
     "output_type": "execute_result"
    }
   ],
   "source": [
    "# Dictionary Comprehension example\n",
    "{number: number % 2 for number in range(10)}"
   ]
  },
  {
   "cell_type": "code",
   "execution_count": 34,
   "id": "2d21b1bf",
   "metadata": {},
   "outputs": [
    {
     "data": {
      "text/plain": [
       "[0, 2, 4, 6, 8, 10, 12, 14, 16, 18]"
      ]
     },
     "execution_count": 34,
     "metadata": {},
     "output_type": "execute_result"
    }
   ],
   "source": [
    "#Conditions in Comprehension\n",
    "#Using if statements to filter list results\n",
    "# [(output expression) for (iter) in (iterable) if (condition)]\n",
    "\n",
    "numbers = []\n",
    "for number in range(20):\n",
    "    if number % 2 == 0:\n",
    "        numbers.append(number)\n",
    "\n",
    "numbers"
   ]
  },
  {
   "cell_type": "code",
   "execution_count": 36,
   "id": "5a8a46db",
   "metadata": {},
   "outputs": [
    {
     "data": {
      "text/plain": [
       "[1, 3, 5, 7, 9, 11, 13, 15, 17, 19]"
      ]
     },
     "execution_count": 36,
     "metadata": {},
     "output_type": "execute_result"
    }
   ],
   "source": [
    "[number for number in range(20) if not number % 2 == 0]"
   ]
  },
  {
   "cell_type": "code",
   "execution_count": 98,
   "id": "824b03c3",
   "metadata": {},
   "outputs": [],
   "source": [
    "#User-defined Function Basics\n",
    "def add_sales(*sale_list):\n",
    "    value = 0\n",
    "    for sale in sale_list:\n",
    "        print(sale)\n",
    "        value += sum(sale)\n",
    "    return value"
   ]
  },
  {
   "cell_type": "code",
   "execution_count": 99,
   "id": "987de892",
   "metadata": {},
   "outputs": [
    {
     "name": "stdout",
     "output_type": "stream",
     "text": [
      "[100, 120, 135, 110, 111]\n",
      "[200, 204, 180, 300, 220]\n"
     ]
    },
    {
     "data": {
      "text/plain": [
       "1680"
      ]
     },
     "execution_count": 99,
     "metadata": {},
     "output_type": "execute_result"
    }
   ],
   "source": [
    "dwight_sales = [100, 120,135,110, 111]\n",
    "jim_sales = [200, 204,180,300, 220]\n",
    "lists = dwight_sales, jim_sales\n",
    "#print(*lists)\n",
    "add_sales(dwight_sales, jim_sales)"
   ]
  },
  {
   "cell_type": "markdown",
   "id": "67b7e2d1",
   "metadata": {},
   "source": [
    "Application\n",
    "Count the lines of a given actor from the script (csv file) of \"The Office\"\n",
    "\n",
    "1. Create a function that:\n",
    "1a. Open & Read the csv\n",
    "1b. Make list of times actor appears\n",
    "1c. Count the list\n",
    "2. Feed the names(s) to that function."
   ]
  },
  {
   "cell_type": "code",
   "execution_count": 108,
   "id": "e6cd7fdf",
   "metadata": {},
   "outputs": [],
   "source": [
    "import csv\n",
    "\n",
    "# actor = \"Michael\"\n",
    "\n",
    "def actor_counter():\n",
    "    file = open('folder/file.csv')\n",
    "    csvreader = csv.reader(file)\n",
    "    # list_actor = [row[5] for row in csvreader if row[5] == actor]\n",
    "    for row in csvreader:\n",
    "        print(row[5])  #5th column of first row\n",
    "        break\n",
    "    file.close()\n",
    "\n",
    "    #return len(list_actor)\n"
   ]
  },
  {
   "cell_type": "code",
   "execution_count": 112,
   "id": "1b98400d",
   "metadata": {},
   "outputs": [],
   "source": [
    "# Lambda Basics\n",
    "def return_number_v1(num):\n",
    "    return num"
   ]
  },
  {
   "cell_type": "code",
   "execution_count": 114,
   "id": "f6c5be0c",
   "metadata": {},
   "outputs": [
    {
     "data": {
      "text/plain": [
       "2"
      ]
     },
     "execution_count": 114,
     "metadata": {},
     "output_type": "execute_result"
    }
   ],
   "source": [
    "return_number_v1(2)"
   ]
  },
  {
   "cell_type": "code",
   "execution_count": 116,
   "id": "925e9905",
   "metadata": {},
   "outputs": [],
   "source": [
    "# lamda syntax    \n",
    "# lambda (inputs): (output expression)\n",
    "return_number_v2 = lambda num: num"
   ]
  },
  {
   "cell_type": "code",
   "execution_count": 117,
   "id": "f20094e5",
   "metadata": {},
   "outputs": [
    {
     "data": {
      "text/plain": [
       "112"
      ]
     },
     "execution_count": 117,
     "metadata": {},
     "output_type": "execute_result"
    }
   ],
   "source": [
    "return_number_v2(112)"
   ]
  },
  {
   "cell_type": "code",
   "execution_count": 121,
   "id": "36d2f547",
   "metadata": {},
   "outputs": [
    {
     "data": {
      "text/plain": [
       "36"
      ]
     },
     "execution_count": 121,
     "metadata": {},
     "output_type": "execute_result"
    }
   ],
   "source": [
    "(lambda num: num)(36)"
   ]
  },
  {
   "cell_type": "code",
   "execution_count": 119,
   "id": "27a3e1de",
   "metadata": {},
   "outputs": [],
   "source": [
    "add = lambda x,y: x + y"
   ]
  },
  {
   "cell_type": "code",
   "execution_count": 120,
   "id": "58c042af",
   "metadata": {},
   "outputs": [
    {
     "data": {
      "text/plain": [
       "10"
      ]
     },
     "execution_count": 120,
     "metadata": {},
     "output_type": "execute_result"
    }
   ],
   "source": [
    "add(4,6)"
   ]
  },
  {
   "cell_type": "code",
   "execution_count": 122,
   "id": "63182470",
   "metadata": {},
   "outputs": [],
   "source": [
    "actor_list = ['Michael', 'Pam','Jim', 'Dwight']"
   ]
  },
  {
   "cell_type": "code",
   "execution_count": 123,
   "id": "48a50fa4",
   "metadata": {},
   "outputs": [],
   "source": [
    "get_third = lambda list: list[2]"
   ]
  },
  {
   "cell_type": "code",
   "execution_count": 124,
   "id": "5dc3fe84",
   "metadata": {},
   "outputs": [
    {
     "data": {
      "text/plain": [
       "'Jim'"
      ]
     },
     "execution_count": 124,
     "metadata": {},
     "output_type": "execute_result"
    }
   ],
   "source": [
    "get_third(actor_list)"
   ]
  },
  {
   "cell_type": "code",
   "execution_count": 8,
   "id": "1fe139f9",
   "metadata": {},
   "outputs": [],
   "source": [
    "import pandas as pd"
   ]
  },
  {
   "cell_type": "code",
   "execution_count": 7,
   "id": "829426c0",
   "metadata": {},
   "outputs": [],
   "source": [
    "import numpy as np"
   ]
  }
 ],
 "metadata": {
  "kernelspec": {
   "display_name": "Python 3 (ipykernel)",
   "language": "python",
   "name": "python3"
  },
  "language_info": {
   "codemirror_mode": {
    "name": "ipython",
    "version": 3
   },
   "file_extension": ".py",
   "mimetype": "text/x-python",
   "name": "python",
   "nbconvert_exporter": "python",
   "pygments_lexer": "ipython3",
   "version": "3.10.5"
  },
  "vscode": {
   "interpreter": {
    "hash": "7e277549d5177f41bd95b53e768504dc6410238d212d3743cf934a996efb2e45"
   }
  }
 },
 "nbformat": 4,
 "nbformat_minor": 5
}
